{
  "nbformat": 4,
  "nbformat_minor": 0,
  "metadata": {
    "colab": {
      "name": "Untitled0.ipynb",
      "provenance": [],
      "authorship_tag": "ABX9TyObxTaL/wKo8lDwu2u7ioyy",
      "include_colab_link": true
    },
    "kernelspec": {
      "name": "python3",
      "display_name": "Python 3"
    },
    "language_info": {
      "name": "python"
    }
  },
  "cells": [
    {
      "cell_type": "markdown",
      "metadata": {
        "id": "view-in-github",
        "colab_type": "text"
      },
      "source": [
        "<a href=\"https://colab.research.google.com/github/Santo-santo/Klasifikasi-Naive-Bayes/blob/main/Tugas-Naive-Bayes.ipynb\" target=\"_parent\"><img src=\"https://colab.research.google.com/assets/colab-badge.svg\" alt=\"Open In Colab\"/></a>"
      ]
    },
    {
      "cell_type": "code",
      "metadata": {
        "id": "2NTEeCOzR3dg"
      },
      "source": [
        "import numpy as np\n",
        "import matplotlib.pyplot as plt\n",
        "import pandas as pd"
      ],
      "execution_count": 1,
      "outputs": []
    },
    {
      "cell_type": "code",
      "metadata": {
        "id": "ITZ1jT_XR9Ss"
      },
      "source": [
        "dataset = pd.read_csv('Data4.csv')\n",
        "x = dataset.iloc[:, [2, 3]].values\n",
        "y = dataset.iloc[:, -1].values"
      ],
      "execution_count": 28,
      "outputs": []
    },
    {
      "cell_type": "code",
      "metadata": {
        "colab": {
          "base_uri": "https://localhost:8080/"
        },
        "id": "2ONMhMbbYRD_",
        "outputId": "b97faae2-a334-439b-c1ec-7c2cbd1eb68c"
      },
      "source": [
        "print(x)"
      ],
      "execution_count": 29,
      "outputs": [
        {
          "output_type": "stream",
          "text": [
            "[[    20  20000]\n",
            " [    33  45000]\n",
            " [    24  25000]\n",
            " [    21  40000]\n",
            " [    26  75000]\n",
            " [    30  58000]\n",
            " [    32  85000]\n",
            " [    19 150000]\n",
            " [    22  35000]\n",
            " [    20  25000]\n",
            " [    33  45000]\n",
            " [    24  27000]\n",
            " [    21  45000]\n",
            " [    26  75000]\n",
            " [    30  60000]\n",
            " [    32  85000]\n",
            " [    19 130000]\n",
            " [    22  33000]\n",
            " [    19 160000]\n",
            " [    22  37000]\n",
            " [    20  26000]\n",
            " [    33  49000]\n",
            " [    24  27000]\n",
            " [    21  41000]\n",
            " [    26  73000]\n",
            " [    30  56000]\n",
            " [    32  82000]\n",
            " [    19 170000]\n",
            " [    22  33000]\n",
            " [    19 150000]\n",
            " [    22  35000]\n",
            " [    20  24000]\n",
            " [    33  43000]\n",
            " [    24  29000]\n",
            " [    21  45000]\n",
            " [    26  75000]\n",
            " [    30  55000]\n",
            " [    32  85000]\n",
            " [    19 150000]\n",
            " [    22  33000]\n",
            " [    19 150000]\n",
            " [    22  35000]\n",
            " [    20  23000]\n",
            " [    33  40000]\n",
            " [    24  20000]\n",
            " [    21  45000]\n",
            " [    26  75000]\n",
            " [    30  55000]\n",
            " [    32  85000]\n",
            " [    19 150000]\n",
            " [    22  35000]]\n"
          ],
          "name": "stdout"
        }
      ]
    },
    {
      "cell_type": "code",
      "metadata": {
        "colab": {
          "base_uri": "https://localhost:8080/"
        },
        "id": "amFK2jRpYTaX",
        "outputId": "aa7d403b-5b44-4f65-d9c8-fb949daf4dab"
      },
      "source": [
        "print(y)"
      ],
      "execution_count": 30,
      "outputs": [
        {
          "output_type": "stream",
          "text": [
            "[0 0 0 0 0 0 0 1 0 0 0 0 0 0 0 0 1 0 1 0 0 0 0 0 0 0 0 1 0 1 0 0 0 0 0 0 0\n",
            " 0 1 0 1 0 0 0 0 0 0 0 0 1 0]\n"
          ],
          "name": "stdout"
        }
      ]
    },
    {
      "cell_type": "code",
      "metadata": {
        "id": "QXBdLJGhYZvH"
      },
      "source": [
        "from sklearn.model_selection import train_test_split\n",
        "x_train, x_test, y_train, y_test = train_test_split(x, y, test_size=0.25, random_state=0)"
      ],
      "execution_count": 31,
      "outputs": []
    },
    {
      "cell_type": "code",
      "metadata": {
        "colab": {
          "base_uri": "https://localhost:8080/"
        },
        "id": "b-h63W9xYciu",
        "outputId": "809d24ad-042d-4ba0-d35c-a5f4fe225851"
      },
      "source": [
        "print(x_train)"
      ],
      "execution_count": 32,
      "outputs": [
        {
          "output_type": "stream",
          "text": [
            "[[    26  75000]\n",
            " [    21  45000]\n",
            " [    19 150000]\n",
            " [    30  60000]\n",
            " [    26  75000]\n",
            " [    19 160000]\n",
            " [    32  85000]\n",
            " [    20  23000]\n",
            " [    32  85000]\n",
            " [    20  24000]\n",
            " [    22  35000]\n",
            " [    19 130000]\n",
            " [    33  40000]\n",
            " [    20  26000]\n",
            " [    22  35000]\n",
            " [    22  35000]\n",
            " [    26  75000]\n",
            " [    30  56000]\n",
            " [    30  58000]\n",
            " [    22  33000]\n",
            " [    32  85000]\n",
            " [    19 150000]\n",
            " [    33  45000]\n",
            " [    21  45000]\n",
            " [    19 150000]\n",
            " [    26  73000]\n",
            " [    32  85000]\n",
            " [    21  41000]\n",
            " [    30  55000]\n",
            " [    33  49000]\n",
            " [    22  37000]\n",
            " [    20  25000]\n",
            " [    22  33000]\n",
            " [    19 150000]\n",
            " [    21  40000]\n",
            " [    20  20000]\n",
            " [    30  55000]\n",
            " [    24  20000]]\n"
          ],
          "name": "stdout"
        }
      ]
    },
    {
      "cell_type": "code",
      "metadata": {
        "colab": {
          "base_uri": "https://localhost:8080/"
        },
        "id": "k4CoKM8oYfWK",
        "outputId": "8f430997-2f79-462f-829a-9ceadb9c80c6"
      },
      "source": [
        "print(x_test)"
      ],
      "execution_count": 33,
      "outputs": [
        {
          "output_type": "stream",
          "text": [
            "[[    19 150000]\n",
            " [    24  27000]\n",
            " [    33  45000]\n",
            " [    24  27000]\n",
            " [    24  25000]\n",
            " [    22  33000]\n",
            " [    21  45000]\n",
            " [    33  43000]\n",
            " [    32  82000]\n",
            " [    26  75000]\n",
            " [    24  29000]\n",
            " [    22  35000]\n",
            " [    19 170000]]\n"
          ],
          "name": "stdout"
        }
      ]
    },
    {
      "cell_type": "code",
      "metadata": {
        "colab": {
          "base_uri": "https://localhost:8080/"
        },
        "id": "NVYPQZgEYnd4",
        "outputId": "0b85e4a6-7667-452d-a16c-46ec19b41b62"
      },
      "source": [
        "print(y_train)"
      ],
      "execution_count": 34,
      "outputs": [
        {
          "output_type": "stream",
          "text": [
            "[0 0 1 0 0 1 0 0 0 0 0 1 0 0 0 0 0 0 0 0 0 1 0 0 1 0 0 0 0 0 0 0 0 1 0 0 0\n",
            " 0]\n"
          ],
          "name": "stdout"
        }
      ]
    },
    {
      "cell_type": "code",
      "metadata": {
        "colab": {
          "base_uri": "https://localhost:8080/"
        },
        "id": "jEj6568-YoWa",
        "outputId": "24ab4927-6aa0-487e-f26e-58e8b4e29bc2"
      },
      "source": [
        "print(y_test)"
      ],
      "execution_count": 35,
      "outputs": [
        {
          "output_type": "stream",
          "text": [
            "[1 0 0 0 0 0 0 0 0 0 0 0 1]\n"
          ],
          "name": "stdout"
        }
      ]
    },
    {
      "cell_type": "code",
      "metadata": {
        "id": "7uJIo1DuYqrX"
      },
      "source": [
        "from sklearn.preprocessing import  StandardScaler\n",
        "sc = StandardScaler()\n",
        "x_train = sc.fit_transform(x_train)\n",
        "x_test = sc.transform(x_test)"
      ],
      "execution_count": 36,
      "outputs": []
    },
    {
      "cell_type": "code",
      "metadata": {
        "colab": {
          "base_uri": "https://localhost:8080/"
        },
        "id": "fGdOYBUeYtRA",
        "outputId": "5c1318cc-3fed-4c64-c394-773e5bfcd570"
      },
      "source": [
        "print(x_train)"
      ],
      "execution_count": 37,
      "outputs": [
        {
          "output_type": "stream",
          "text": [
            "[[ 0.27590324  0.24835706]\n",
            " [-0.71318385 -0.48323739]\n",
            " [-1.10881868  2.0773432 ]\n",
            " [ 1.06717291 -0.11744016]\n",
            " [ 0.27590324  0.24835706]\n",
            " [-1.10881868  2.32120802]\n",
            " [ 1.46280775  0.49222188]\n",
            " [-0.91100127 -1.01973999]\n",
            " [ 1.46280775  0.49222188]\n",
            " [-0.91100127 -0.99535351]\n",
            " [-0.51536643 -0.72710221]\n",
            " [-1.10881868  1.58961356]\n",
            " [ 1.66062517 -0.6051698 ]\n",
            " [-0.91100127 -0.94658054]\n",
            " [-0.51536643 -0.72710221]\n",
            " [-0.51536643 -0.72710221]\n",
            " [ 0.27590324  0.24835706]\n",
            " [ 1.06717291 -0.21498609]\n",
            " [ 1.06717291 -0.16621313]\n",
            " [-0.51536643 -0.77587517]\n",
            " [ 1.46280775  0.49222188]\n",
            " [-1.10881868  2.0773432 ]\n",
            " [ 1.66062517 -0.48323739]\n",
            " [-0.71318385 -0.48323739]\n",
            " [-1.10881868  2.0773432 ]\n",
            " [ 0.27590324  0.1995841 ]\n",
            " [ 1.46280775  0.49222188]\n",
            " [-0.71318385 -0.58078332]\n",
            " [ 1.06717291 -0.23937257]\n",
            " [ 1.66062517 -0.38569146]\n",
            " [-0.51536643 -0.67832924]\n",
            " [-0.91100127 -0.97096702]\n",
            " [-0.51536643 -0.77587517]\n",
            " [-1.10881868  2.0773432 ]\n",
            " [-0.71318385 -0.6051698 ]\n",
            " [-0.91100127 -1.09289943]\n",
            " [ 1.06717291 -0.23937257]\n",
            " [-0.1197316  -1.09289943]]\n"
          ],
          "name": "stdout"
        }
      ]
    },
    {
      "cell_type": "code",
      "metadata": {
        "colab": {
          "base_uri": "https://localhost:8080/"
        },
        "id": "D7w6XRDUYxu_",
        "outputId": "7be6484a-32b1-4039-c53a-05222f21f61b"
      },
      "source": [
        "print(x_test)"
      ],
      "execution_count": 38,
      "outputs": [
        {
          "output_type": "stream",
          "text": [
            "[[-1.10881868  2.0773432 ]\n",
            " [-0.1197316  -0.92219406]\n",
            " [ 1.66062517 -0.48323739]\n",
            " [-0.1197316  -0.92219406]\n",
            " [-0.1197316  -0.97096702]\n",
            " [-0.51536643 -0.77587517]\n",
            " [-0.71318385 -0.48323739]\n",
            " [ 1.66062517 -0.53201035]\n",
            " [ 1.46280775  0.41906244]\n",
            " [ 0.27590324  0.24835706]\n",
            " [-0.1197316  -0.8734211 ]\n",
            " [-0.51536643 -0.72710221]\n",
            " [-1.10881868  2.56507283]]\n"
          ],
          "name": "stdout"
        }
      ]
    },
    {
      "cell_type": "code",
      "metadata": {
        "colab": {
          "base_uri": "https://localhost:8080/"
        },
        "id": "blPWgAXBY1_3",
        "outputId": "528d20a3-77c4-4e10-e079-2d41e05a7e63"
      },
      "source": [
        "from sklearn.naive_bayes import GaussianNB\n",
        "classifier = GaussianNB()\n",
        "classifier.fit(x_train, y_train)"
      ],
      "execution_count": 39,
      "outputs": [
        {
          "output_type": "execute_result",
          "data": {
            "text/plain": [
              "GaussianNB(priors=None, var_smoothing=1e-09)"
            ]
          },
          "metadata": {
            "tags": []
          },
          "execution_count": 39
        }
      ]
    },
    {
      "cell_type": "code",
      "metadata": {
        "id": "nxEiYUnMY3ZU"
      },
      "source": [
        "y_pred = classifier.predict(x_test)"
      ],
      "execution_count": 40,
      "outputs": []
    },
    {
      "cell_type": "code",
      "metadata": {
        "colab": {
          "base_uri": "https://localhost:8080/"
        },
        "id": "I9jNsbdwY6hj",
        "outputId": "35e97db2-d852-4e1c-88eb-4117a04b927c"
      },
      "source": [
        "from sklearn.metrics import confusion_matrix\n",
        "cm = confusion_matrix(y_test, y_pred)\n",
        "print(cm)"
      ],
      "execution_count": 41,
      "outputs": [
        {
          "output_type": "stream",
          "text": [
            "[[11  0]\n",
            " [ 0  2]]\n"
          ],
          "name": "stdout"
        }
      ]
    },
    {
      "cell_type": "code",
      "metadata": {
        "colab": {
          "base_uri": "https://localhost:8080/",
          "height": 349
        },
        "id": "1mNiL2mlY7vw",
        "outputId": "ecfd1304-dae2-4bbb-d931-0ca5d4c06999"
      },
      "source": [
        "from matplotlib.colors import ListedColormap\n",
        "x_set, y_set = x_train, y_train\n",
        "x1, x2 = np.meshgrid(np.arange(start = x_set[:, 0].min()-1, stop = x_set[:, 0].max() + 1, step=0.01),\n",
        "                     np.arange(start = x_set[:, 1].min()-1, stop= x_set[:,1].max() + 1,step =0.01))\n",
        "plt.contourf(x1,x2, classifier.predict(np.array([x1.ravel(), x2.ravel()]).T).reshape(x1.shape), alpha = 0.75, cmap = ListedColormap(('red','green')))\n",
        "plt.xlim(x1.min(), x1.max())\n",
        "plt.ylim(x2.min(), x2.max())\n",
        "for i, j in enumerate(np.unique(y_set)): plt.scatter(x_set[y_set == j, 0], x_set[y_set ==j, 1], c = ListedColormap(('red', 'green'))(i), label = j)\n",
        "plt.title('Naive Bayes (Training Set)')\n",
        "plt.xlabel('Age')\n",
        "plt.ylabel('Estimated Salary')\n",
        "plt.legend()\n",
        "plt.show()"
      ],
      "execution_count": 46,
      "outputs": [
        {
          "output_type": "stream",
          "text": [
            "*c* argument looks like a single numeric RGB or RGBA sequence, which should be avoided as value-mapping will have precedence in case its length matches with *x* & *y*.  Please use the *color* keyword-argument or provide a 2-D array with a single row if you intend to specify the same RGB or RGBA value for all points.\n",
            "*c* argument looks like a single numeric RGB or RGBA sequence, which should be avoided as value-mapping will have precedence in case its length matches with *x* & *y*.  Please use the *color* keyword-argument or provide a 2-D array with a single row if you intend to specify the same RGB or RGBA value for all points.\n"
          ],
          "name": "stderr"
        },
        {
          "output_type": "display_data",
          "data": {
            "image/png": "[encoded data removed]",
            "text/plain": [
              "<Figure size 432x288 with 1 Axes>"
            ]
          },
          "metadata": {
            "tags": [],
            "needs_background": "light"
          }
        }
      ]
    },
    {
      "cell_type": "code",
      "metadata": {
        "colab": {
          "base_uri": "https://localhost:8080/",
          "height": 349
        },
        "id": "oZRFy4UNZBiX",
        "outputId": "cf55ac08-6b52-4b25-c264-b1d5abaf3251"
      },
      "source": [
        "from matplotlib.colors import ListedColormap\n",
        "x_set, y_set = x_test, y_test\n",
        "x1, x2 = np.meshgrid(np.arange(start = x_set[:, 0].min()-1, stop = x_set[:, 0].max() + 1, step=0.01),\n",
        "                     np.arange(start = x_set[:, 1].min()-1, stop= x_set[:,1].max() + 1,step =0.01))\n",
        "plt.contourf(x1,x2, classifier.predict(np.array([x1.ravel(), x2.ravel()]).T).reshape(x1.shape), alpha = 0.75, cmap = ListedColormap(('red', 'green')))\n",
        "plt.xlim(x1.min(), x1.max())\n",
        "plt.ylim(x2.min(), x2.max())\n",
        "for i, j in enumerate(np.unique(y_set)): plt.scatter(x_set[y_set == j, 0], x_set[y_set == j, 1], c = ListedColormap(('red', 'green'))(i), label = j)\n",
        "plt.title('Naive Bayes (Training Set)')\n",
        "plt.xlabel('Age')\n",
        "plt.ylabel('Estimated Salary')\n",
        "plt.legend()\n",
        "plt.show()"
      ],
      "execution_count": 43,
      "outputs": [
        {
          "output_type": "stream",
          "text": [
            "*c* argument looks like a single numeric RGB or RGBA sequence, which should be avoided as value-mapping will have precedence in case its length matches with *x* & *y*.  Please use the *color* keyword-argument or provide a 2-D array with a single row if you intend to specify the same RGB or RGBA value for all points.\n",
            "*c* argument looks like a single numeric RGB or RGBA sequence, which should be avoided as value-mapping will have precedence in case its length matches with *x* & *y*.  Please use the *color* keyword-argument or provide a 2-D array with a single row if you intend to specify the same RGB or RGBA value for all points.\n"
          ],
          "name": "stderr"
        },
        {
          "output_type": "display_data",
          "data": {
            "image/png": "[encoded data removed]",
            "text/plain": [
              "<Figure size 432x288 with 1 Axes>"
            ]
          },
          "metadata": {
            "tags": [],
            "needs_background": "light"
          }
        }
      ]
    }
  ]
}